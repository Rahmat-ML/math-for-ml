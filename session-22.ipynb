{
  "nbformat": 4,
  "nbformat_minor": 0,
  "metadata": {
    "colab": {
      "provenance": [],
      "authorship_tag": "ABX9TyM1muNcYMEdJWbNZhVtDrSX",
      "include_colab_link": true
    },
    "kernelspec": {
      "name": "python3",
      "display_name": "Python 3"
    },
    "language_info": {
      "name": "python"
    }
  },
  "cells": [
    {
      "cell_type": "markdown",
      "metadata": {
        "id": "view-in-github",
        "colab_type": "text"
      },
      "source": [
        "<a href=\"https://colab.research.google.com/github/Rahmat-ML/math-for-ml/blob/main/session-22.ipynb\" target=\"_parent\"><img src=\"https://colab.research.google.com/assets/colab-badge.svg\" alt=\"Open In Colab\"/></a>"
      ]
    },
    {
      "cell_type": "code",
      "execution_count": 1,
      "metadata": {
        "id": "WWeYi8xwZr_r"
      },
      "outputs": [],
      "source": [
        "import numpy as np"
      ]
    },
    {
      "cell_type": "code",
      "source": [
        "A = np.array([[3, 1, 1],\n",
        "              [-1, 3, 1]])"
      ],
      "metadata": {
        "id": "YULfMFbfbLqJ"
      },
      "execution_count": 2,
      "outputs": []
    },
    {
      "cell_type": "code",
      "source": [
        "A"
      ],
      "metadata": {
        "colab": {
          "base_uri": "https://localhost:8080/"
        },
        "id": "8IpI6wQ3bY5P",
        "outputId": "43fa5bb4-14d3-49ad-e318-5a9f9458e3f0"
      },
      "execution_count": 3,
      "outputs": [
        {
          "output_type": "execute_result",
          "data": {
            "text/plain": [
              "array([[ 3,  1,  1],\n",
              "       [-1,  3,  1]])"
            ]
          },
          "metadata": {},
          "execution_count": 3
        }
      ]
    },
    {
      "cell_type": "code",
      "source": [
        "A.T"
      ],
      "metadata": {
        "colab": {
          "base_uri": "https://localhost:8080/"
        },
        "id": "YQz3BUnLbg_A",
        "outputId": "63242a0f-7792-45bf-c47f-2701823364d3"
      },
      "execution_count": 4,
      "outputs": [
        {
          "output_type": "execute_result",
          "data": {
            "text/plain": [
              "array([[ 3, -1],\n",
              "       [ 1,  3],\n",
              "       [ 1,  1]])"
            ]
          },
          "metadata": {},
          "execution_count": 4
        }
      ]
    },
    {
      "cell_type": "code",
      "source": [
        "np.dot(A, A.T)"
      ],
      "metadata": {
        "colab": {
          "base_uri": "https://localhost:8080/"
        },
        "id": "ldJC0X7fbiDL",
        "outputId": "adbb1fab-804e-43ae-835f-d898e81521da"
      },
      "execution_count": 5,
      "outputs": [
        {
          "output_type": "execute_result",
          "data": {
            "text/plain": [
              "array([[11,  1],\n",
              "       [ 1, 11]])"
            ]
          },
          "metadata": {},
          "execution_count": 5
        }
      ]
    },
    {
      "cell_type": "code",
      "source": [
        "np.dot(A.T, A)"
      ],
      "metadata": {
        "colab": {
          "base_uri": "https://localhost:8080/"
        },
        "id": "aTIuGSrJbmFh",
        "outputId": "9c0c0098-0ed1-4db9-9de0-2ed1836b1327"
      },
      "execution_count": 6,
      "outputs": [
        {
          "output_type": "execute_result",
          "data": {
            "text/plain": [
              "array([[10,  0,  2],\n",
              "       [ 0, 10,  4],\n",
              "       [ 2,  4,  2]])"
            ]
          },
          "metadata": {},
          "execution_count": 6
        }
      ]
    },
    {
      "cell_type": "code",
      "source": [
        "U, s, Vt = np.linalg.svd(A)"
      ],
      "metadata": {
        "id": "WPU40MijbrDg"
      },
      "execution_count": 19,
      "outputs": []
    },
    {
      "cell_type": "code",
      "source": [
        "print('U:\\n', np.round(U, decimals=2))\n",
        "print('S:\\n', np.round(s, decimals=2))\n",
        "print('Vt:\\n', np.round(Vt, decimals=2))"
      ],
      "metadata": {
        "colab": {
          "base_uri": "https://localhost:8080/"
        },
        "id": "iwNUgNydb8QR",
        "outputId": "71113790-76b1-47d4-cb36-9df42bdd4968"
      },
      "execution_count": 20,
      "outputs": [
        {
          "output_type": "stream",
          "name": "stdout",
          "text": [
            "U:\n",
            " [[-0.71 -0.71]\n",
            " [-0.71  0.71]]\n",
            "S:\n",
            " [3.46 3.16]\n",
            "Vt:\n",
            " [[-0.41 -0.82 -0.41]\n",
            " [-0.89  0.45  0.  ]\n",
            " [-0.18 -0.37  0.91]]\n"
          ]
        }
      ]
    },
    {
      "cell_type": "code",
      "source": [
        "# A ?= US(Vt)\n",
        "S = np.zeros((2, 3))\n",
        "S[:2, :2] = np.diag(s)\n",
        "S"
      ],
      "metadata": {
        "colab": {
          "base_uri": "https://localhost:8080/"
        },
        "id": "JRN5HPThcEBV",
        "outputId": "9ff55124-15ae-4eb5-d5fa-6ad3586e74f2"
      },
      "execution_count": 24,
      "outputs": [
        {
          "output_type": "execute_result",
          "data": {
            "text/plain": [
              "array([[3.46410162, 0.        , 0.        ],\n",
              "       [0.        , 3.16227766, 0.        ]])"
            ]
          },
          "metadata": {},
          "execution_count": 24
        }
      ]
    },
    {
      "cell_type": "code",
      "source": [
        "np.dot(np.dot(U, S), Vt)"
      ],
      "metadata": {
        "colab": {
          "base_uri": "https://localhost:8080/"
        },
        "id": "iRdYsiuCcXT1",
        "outputId": "4867a9ae-d9a1-450c-c307-8c2c8092576e"
      },
      "execution_count": 25,
      "outputs": [
        {
          "output_type": "execute_result",
          "data": {
            "text/plain": [
              "array([[ 3.,  1.,  1.],\n",
              "       [-1.,  3.,  1.]])"
            ]
          },
          "metadata": {},
          "execution_count": 25
        }
      ]
    },
    {
      "cell_type": "code",
      "source": [],
      "metadata": {
        "id": "sUE4-wv5etqY"
      },
      "execution_count": null,
      "outputs": []
    }
  ]
}