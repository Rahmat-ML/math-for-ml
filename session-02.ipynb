{
  "cells": [
    {
      "cell_type": "markdown",
      "metadata": {
        "colab_type": "text",
        "id": "view-in-github"
      },
      "source": [
        "<a href=\"https://colab.research.google.com/github/Rahmat-ML/math-for-ml/blob/main/session-02.ipynb\" target=\"_parent\"><img src=\"https://colab.research.google.com/assets/colab-badge.svg\" alt=\"Open In Colab\"/></a>"
      ]
    },
    {
      "cell_type": "code",
      "execution_count": null,
      "metadata": {
        "id": "hsY7BN5uiFg7"
      },
      "outputs": [],
      "source": [
        "import numpy as np"
      ]
    },
    {
      "cell_type": "code",
      "execution_count": null,
      "metadata": {
        "colab": {
          "base_uri": "https://localhost:8080/"
        },
        "id": "yzhpyjCJi177",
        "outputId": "183484ec-fd34-4862-a8b9-587b30d5f6f1"
      },
      "outputs": [
        {
          "name": "stdout",
          "output_type": "stream",
          "text": [
            "[3 4]\n"
          ]
        }
      ],
      "source": [
        "a = np.array([3, 4])\n",
        "print(a)"
      ]
    },
    {
      "cell_type": "code",
      "execution_count": null,
      "metadata": {
        "colab": {
          "base_uri": "https://localhost:8080/"
        },
        "id": "9aqmVoTOjDyg",
        "outputId": "37489910-04f4-4deb-8af3-fdb619804a93"
      },
      "outputs": [
        {
          "name": "stdout",
          "output_type": "stream",
          "text": [
            "<class 'numpy.ndarray'>\n",
            "2\n"
          ]
        }
      ],
      "source": [
        "print(type(a))\n",
        "print(len(a))"
      ]
    },
    {
      "cell_type": "code",
      "execution_count": null,
      "metadata": {
        "colab": {
          "base_uri": "https://localhost:8080/"
        },
        "id": "gQTeIPI-jeqr",
        "outputId": "c5729a39-0a63-4317-eb5c-eca571df8bce"
      },
      "outputs": [
        {
          "name": "stdout",
          "output_type": "stream",
          "text": [
            "[3 4] [7 2]\n"
          ]
        }
      ],
      "source": [
        "b = np.array([7, 2])\n",
        "print(a, b)"
      ]
    },
    {
      "cell_type": "code",
      "execution_count": null,
      "metadata": {
        "colab": {
          "base_uri": "https://localhost:8080/"
        },
        "id": "0eu9M8WFjkg8",
        "outputId": "177d2aae-0092-4816-a8ea-08aba3dc20a9"
      },
      "outputs": [
        {
          "data": {
            "text/plain": [
              "array([10,  6])"
            ]
          },
          "execution_count": 11,
          "metadata": {},
          "output_type": "execute_result"
        }
      ],
      "source": [
        "a + b"
      ]
    },
    {
      "cell_type": "code",
      "execution_count": null,
      "metadata": {
        "colab": {
          "base_uri": "https://localhost:8080/"
        },
        "id": "lCkoOsf-jwF6",
        "outputId": "9314797e-1019-431d-e782-eaddae2aa205"
      },
      "outputs": [
        {
          "data": {
            "text/plain": [
              "array([10,  6])"
            ]
          },
          "execution_count": 12,
          "metadata": {},
          "output_type": "execute_result"
        }
      ],
      "source": [
        "np.add(a, b)"
      ]
    },
    {
      "cell_type": "code",
      "execution_count": null,
      "metadata": {
        "colab": {
          "base_uri": "https://localhost:8080/"
        },
        "id": "paf6BDz1j-Ag",
        "outputId": "419a936c-8b21-41d2-febb-f10b0afe155e"
      },
      "outputs": [
        {
          "name": "stdout",
          "output_type": "stream",
          "text": [
            "[3 4]\n",
            "[6 8]\n"
          ]
        }
      ],
      "source": [
        "print(a)\n",
        "print(np.dot(2, a))"
      ]
    },
    {
      "cell_type": "code",
      "execution_count": null,
      "metadata": {
        "colab": {
          "base_uri": "https://localhost:8080/"
        },
        "id": "f54rqBbxkTzD",
        "outputId": "89d3fa0c-8d5e-4ba1-9d94-84383d34ef07"
      },
      "outputs": [
        {
          "name": "stdout",
          "output_type": "stream",
          "text": [
            "[3 4] [7 2]\n",
            "29\n"
          ]
        }
      ],
      "source": [
        "print(a, b)\n",
        "print(np.dot(a, b))"
      ]
    },
    {
      "cell_type": "code",
      "execution_count": null,
      "metadata": {
        "colab": {
          "base_uri": "https://localhost:8080/"
        },
        "id": "US5J3kqNlIW8",
        "outputId": "644000a6-c2ea-4941-d5ee-ca4940dc0102"
      },
      "outputs": [
        {
          "name": "stdout",
          "output_type": "stream",
          "text": [
            "5.0\n"
          ]
        }
      ],
      "source": [
        "print(np.linalg.norm(a))"
      ]
    },
    {
      "cell_type": "code",
      "execution_count": null,
      "metadata": {
        "id": "h3hkencGlZ0X"
      },
      "outputs": [],
      "source": [
        "import matplotlib.pyplot as plt\n"
      ]
    },
    {
      "cell_type": "code",
      "execution_count": null,
      "metadata": {
        "colab": {
          "base_uri": "https://localhost:8080/",
          "height": 452
        },
        "id": "bGUzy3vAldb-",
        "outputId": "f804831f-0021-41d3-e2a1-734583dea5a3"
      },
      "outputs": [
        {
          "data": {
            "text/plain": [
              "Text(3, 4, '$\\\\vec{u}$')"
            ]
          },
          "execution_count": 20,
          "metadata": {},
          "output_type": "execute_result"
        },
        {
          "data": {
            "image/png": "[encoded data removed]",
            "text/plain": [
              "<Figure size 640x480 with 1 Axes>"
            ]
          },
          "metadata": {},
          "output_type": "display_data"
        }
      ],
      "source": [
        "plt.quiver(3, 4, angles='xy', scale_units='xy', scale=1)\n",
        "plt.xlim(-1, 5)\n",
        "plt.ylim(-1, 5)\n",
        "plt.text(3, 4, r'$\\vec{u}$', size=25)"
      ]
    },
    {
      "cell_type": "code",
      "execution_count": 31,
      "metadata": {
        "colab": {
          "base_uri": "https://localhost:8080/",
          "height": 452
        },
        "id": "WmFPJu1Nmpne",
        "outputId": "18989c38-2ec6-4a7e-f015-cc6a99a00e4f"
      },
      "outputs": [
        {
          "data": {
            "text/plain": [
              "Text(10, 6, '$\\\\vec{c}$')"
            ]
          },
          "execution_count": 31,
          "metadata": {},
          "output_type": "execute_result"
        },
        {
          "data": {
            "image/png": "[encoded data removed]",
            "text/plain": [
              "<Figure size 640x480 with 1 Axes>"
            ]
          },
          "metadata": {},
          "output_type": "display_data"
        }
      ],
      "source": [
        "a = np.array([3, 4])\n",
        "b = np.array([7, 2])\n",
        "c = a + b\n",
        "\n",
        "plt.quiver(*a, angles='xy', scale_units='xy', scale=1)\n",
        "plt.quiver(*b, angles='xy', scale_units='xy', scale=1)\n",
        "plt.quiver(*c, angles='xy', scale_units='xy', scale=1, color='r')\n",
        "plt.xlim(-5, 15)\n",
        "plt.ylim(-5, 15)\n",
        "\n",
        "plt.axhline(0, color='gray')\n",
        "plt.axvline(0, color='gray')\n",
        "\n",
        "plt.text(*a, r'$\\vec{u}$', size=15)\n",
        "plt.text(*b, r'$\\vec{v}$', size=15)\n",
        "plt.text(*c, r'$\\vec{c}$', size=15, c='r')"
      ]
    }
  ],
  "metadata": {
    "colab": {
      "authorship_tag": "ABX9TyMp4KiSa3+YunuNK8f7ZBND",
      "include_colab_link": true,
      "provenance": []
    },
    "kernelspec": {
      "display_name": "Python 3",
      "name": "python3"
    },
    "language_info": {
      "name": "python"
    }
  },
  "nbformat": 4,
  "nbformat_minor": 0
}
