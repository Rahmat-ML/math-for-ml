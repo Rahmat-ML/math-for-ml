{
  "cells": [
    {
      "cell_type": "markdown",
      "metadata": {
        "colab_type": "text",
        "id": "view-in-github"
      },
      "source": [
        "<a href=\"https://colab.research.google.com/github/Rahmat-ML/math-for-ml/blob/main/session-08.ipynb\" target=\"_parent\"><img src=\"https://colab.research.google.com/assets/colab-badge.svg\" alt=\"Open In Colab\"/></a>"
      ]
    },
    {
      "cell_type": "code",
      "execution_count": 1,
      "metadata": {
        "id": "7Se1LUmC8YK7"
      },
      "outputs": [],
      "source": [
        "import numpy as np"
      ]
    },
    {
      "cell_type": "code",
      "execution_count": 3,
      "metadata": {
        "colab": {
          "base_uri": "https://localhost:8080/"
        },
        "id": "x2aA8D2785MW",
        "outputId": "c52707b5-dc91-4a11-8d12-2836f51ec84a"
      },
      "outputs": [
        {
          "data": {
            "text/plain": [
              "array([[ 6,  4, 24],\n",
              "       [ 1, -9,  8]])"
            ]
          },
          "execution_count": 3,
          "metadata": {},
          "output_type": "execute_result"
        }
      ],
      "source": [
        "a = np.array([[6, 4, 24], [1, -9, 8]])\n",
        "a"
      ]
    },
    {
      "cell_type": "code",
      "execution_count": 4,
      "metadata": {
        "colab": {
          "base_uri": "https://localhost:8080/"
        },
        "id": "v53o2G8M9EsU",
        "outputId": "79ab2623-8737-4c41-efc2-e126d8bb87e5"
      },
      "outputs": [
        {
          "data": {
            "text/plain": [
              "(2, 3)"
            ]
          },
          "execution_count": 4,
          "metadata": {},
          "output_type": "execute_result"
        }
      ],
      "source": [
        "a.shape"
      ]
    },
    {
      "cell_type": "code",
      "execution_count": 9,
      "metadata": {
        "colab": {
          "base_uri": "https://localhost:8080/"
        },
        "id": "LTGSbKuD9X10",
        "outputId": "c8366af4-0d04-4928-fff3-de9209b015fe"
      },
      "outputs": [
        {
          "data": {
            "text/plain": [
              "array([ 6,  4, 24])"
            ]
          },
          "execution_count": 9,
          "metadata": {},
          "output_type": "execute_result"
        }
      ],
      "source": [
        "a[0]"
      ]
    },
    {
      "cell_type": "code",
      "execution_count": 11,
      "metadata": {
        "colab": {
          "base_uri": "https://localhost:8080/"
        },
        "id": "vmOi2dxc9gC2",
        "outputId": "22b24bdf-ce92-4342-d311-2270465c8835"
      },
      "outputs": [
        {
          "data": {
            "text/plain": [
              "array([ 4, -9])"
            ]
          },
          "execution_count": 11,
          "metadata": {},
          "output_type": "execute_result"
        }
      ],
      "source": [
        "a[:,1]"
      ]
    },
    {
      "cell_type": "code",
      "execution_count": 14,
      "metadata": {
        "colab": {
          "base_uri": "https://localhost:8080/"
        },
        "id": "um-ioRz5DhAH",
        "outputId": "970c8983-4263-438c-adef-852f8d62e257"
      },
      "outputs": [
        {
          "name": "stdout",
          "output_type": "stream",
          "text": [
            "6\n"
          ]
        }
      ],
      "source": [
        "print(a[0, 0])"
      ]
    },
    {
      "cell_type": "code",
      "execution_count": 15,
      "metadata": {
        "id": "mF2jkotoEbSt"
      },
      "outputs": [],
      "source": [
        "b = np.array([[3, 5, 2],\n",
        "              [1, 6, 9],\n",
        "              [29, 10, 21]])"
      ]
    },
    {
      "cell_type": "code",
      "execution_count": 17,
      "metadata": {
        "colab": {
          "base_uri": "https://localhost:8080/"
        },
        "id": "4GfiZ2zREl9Y",
        "outputId": "652265a9-4d0b-4efd-f75d-4201e322e73b"
      },
      "outputs": [
        {
          "name": "stdout",
          "output_type": "stream",
          "text": [
            "[[ 6]\n",
            " [10]]\n"
          ]
        }
      ],
      "source": [
        "print(b[1:3, 1:2])"
      ]
    },
    {
      "cell_type": "code",
      "execution_count": 19,
      "metadata": {
        "colab": {
          "base_uri": "https://localhost:8080/"
        },
        "id": "IvED29HAE6kM",
        "outputId": "15e5cbac-21b9-4c08-8211-5d70a38769e0"
      },
      "outputs": [
        {
          "name": "stdout",
          "output_type": "stream",
          "text": [
            "86\n"
          ]
        }
      ],
      "source": [
        "print(b.sum())"
      ]
    },
    {
      "cell_type": "code",
      "execution_count": 21,
      "metadata": {
        "colab": {
          "base_uri": "https://localhost:8080/"
        },
        "id": "qjmNLVu3E-tC",
        "outputId": "ef8ea4e0-2e1d-43d4-87b1-321fce595357"
      },
      "outputs": [
        {
          "name": "stdout",
          "output_type": "stream",
          "text": [
            "[[ 3  5  2]\n",
            " [ 1  6  9]\n",
            " [29 10 21]]\n",
            "sum of rows: [10 16 60]\n",
            "sum of columns: [33 21 32]\n"
          ]
        }
      ],
      "source": [
        "print(b)\n",
        "print('sum of rows:', b.sum(axis=1))\n",
        "print('sum of columns:', b.sum(axis=0))"
      ]
    },
    {
      "cell_type": "code",
      "execution_count": 24,
      "metadata": {
        "colab": {
          "base_uri": "https://localhost:8080/"
        },
        "id": "qbgMZI25FsSF",
        "outputId": "4fb10fcd-cef1-48d9-aff5-d7d3fd1bff48"
      },
      "outputs": [
        {
          "name": "stdout",
          "output_type": "stream",
          "text": [
            "a\n",
            " [[4 5]\n",
            " [2 0]]\n",
            "b\n",
            " [[4 6]\n",
            " [7 1]]\n"
          ]
        }
      ],
      "source": [
        "a = np.array([[4, 5], [2, 0]])\n",
        "b = np.array([[4, 6], [7, 1]])\n",
        "\n",
        "print('a\\n', a)\n",
        "print('b\\n', b)"
      ]
    },
    {
      "cell_type": "code",
      "execution_count": 25,
      "metadata": {
        "colab": {
          "base_uri": "https://localhost:8080/"
        },
        "id": "gjqqJthcF5GP",
        "outputId": "57010424-b5fa-47bb-b304-d0c90f5241fe"
      },
      "outputs": [
        {
          "name": "stdout",
          "output_type": "stream",
          "text": [
            "[[ 8 11]\n",
            " [ 9  1]]\n"
          ]
        }
      ],
      "source": [
        "print(a + b)"
      ]
    },
    {
      "cell_type": "code",
      "execution_count": 26,
      "metadata": {
        "colab": {
          "base_uri": "https://localhost:8080/"
        },
        "id": "2QYkjK-nGGdI",
        "outputId": "8203dce6-4ec6-48a5-c412-ef7fe4bd4643"
      },
      "outputs": [
        {
          "name": "stdout",
          "output_type": "stream",
          "text": [
            "[[16 30]\n",
            " [14  0]]\n"
          ]
        }
      ],
      "source": [
        "print(a * b)"
      ]
    },
    {
      "cell_type": "code",
      "execution_count": 27,
      "metadata": {
        "colab": {
          "base_uri": "https://localhost:8080/"
        },
        "id": "JxPk0J1CGQJc",
        "outputId": "2f022751-4025-4d59-8c2a-c12ccde40f13"
      },
      "outputs": [
        {
          "name": "stdout",
          "output_type": "stream",
          "text": [
            "[[51 29]\n",
            " [ 8 12]]\n"
          ]
        }
      ],
      "source": [
        "print(np.dot(a, b))"
      ]
    },
    {
      "cell_type": "code",
      "execution_count": 31,
      "metadata": {
        "colab": {
          "base_uri": "https://localhost:8080/"
        },
        "id": "gbYc4XD1GVJx",
        "outputId": "27624b08-a90d-4a89-bee4-f5715d180e40"
      },
      "outputs": [
        {
          "name": "stdout",
          "output_type": "stream",
          "text": [
            "[[32 12 43]\n",
            " [51 41 91]]\n"
          ]
        }
      ],
      "source": [
        "a = np.array([[32, 12, 43], [51, 41, 91]])\n",
        "print(a)"
      ]
    },
    {
      "cell_type": "code",
      "execution_count": 32,
      "metadata": {
        "colab": {
          "base_uri": "https://localhost:8080/"
        },
        "id": "sxZSvGgiHJhu",
        "outputId": "4c653e9c-395e-4757-f264-6a85b079e789"
      },
      "outputs": [
        {
          "name": "stdout",
          "output_type": "stream",
          "text": [
            "[[32 51]\n",
            " [12 41]\n",
            " [43 91]]\n"
          ]
        }
      ],
      "source": [
        "print(a.T)"
      ]
    },
    {
      "cell_type": "code",
      "execution_count": 33,
      "metadata": {
        "colab": {
          "base_uri": "https://localhost:8080/"
        },
        "id": "Y5CTpPS5HQ9r",
        "outputId": "7d74c69d-c411-4f3b-9372-c30b2b159820"
      },
      "outputs": [
        {
          "name": "stdout",
          "output_type": "stream",
          "text": [
            "[[32 12 43]\n",
            " [51 41 91]]\n"
          ]
        }
      ],
      "source": [
        "print(a.T.T)"
      ]
    },
    {
      "cell_type": "code",
      "execution_count": 36,
      "metadata": {
        "colab": {
          "base_uri": "https://localhost:8080/"
        },
        "id": "IHIHvlJjHeOX",
        "outputId": "495acc38-7833-4b83-c53c-830ec43fb7eb"
      },
      "outputs": [
        {
          "name": "stdout",
          "output_type": "stream",
          "text": [
            "[[1 4 5]\n",
            " [4 2 6]\n",
            " [5 6 3]]\n"
          ]
        }
      ],
      "source": [
        "a = np.array([[1, 4, 5], [4, 2, 6], [5, 6, 3]])\n",
        "print(a)"
      ]
    },
    {
      "cell_type": "code",
      "execution_count": 37,
      "metadata": {
        "colab": {
          "base_uri": "https://localhost:8080/"
        },
        "id": "cNgoEBZpIKK1",
        "outputId": "34cacae8-6563-4a43-fd6e-e3a54ed3d900"
      },
      "outputs": [
        {
          "name": "stdout",
          "output_type": "stream",
          "text": [
            "[[1 4 5]\n",
            " [4 2 6]\n",
            " [5 6 3]]\n"
          ]
        }
      ],
      "source": [
        "print(a.T)"
      ]
    },
    {
      "cell_type": "code",
      "execution_count": 38,
      "metadata": {
        "colab": {
          "base_uri": "https://localhost:8080/"
        },
        "id": "jopqtsv1IPXf",
        "outputId": "18ab8105-5be6-492c-d956-c5a915f17a0b"
      },
      "outputs": [
        {
          "name": "stdout",
          "output_type": "stream",
          "text": [
            "[[ True  True  True]\n",
            " [ True  True  True]\n",
            " [ True  True  True]]\n"
          ]
        }
      ],
      "source": [
        "print(a == a.T)"
      ]
    },
    {
      "cell_type": "code",
      "execution_count": 40,
      "metadata": {
        "colab": {
          "base_uri": "https://localhost:8080/"
        },
        "id": "VH3uCNrYIR6m",
        "outputId": "17690cdf-ae56-4763-96dd-b9108b4d24eb"
      },
      "outputs": [
        {
          "name": "stdout",
          "output_type": "stream",
          "text": [
            "[[1 2 3]\n",
            " [4 5 6]\n",
            " [7 8 9]]\n",
            "trace: 15\n"
          ]
        }
      ],
      "source": [
        "a = np.array([[1, 2, 3], [4, 5, 6], [7, 8, 9]])\n",
        "print(a)\n",
        "print('trace:', np.trace(a))"
      ]
    },
    {
      "cell_type": "code",
      "execution_count": 42,
      "metadata": {
        "colab": {
          "base_uri": "https://localhost:8080/"
        },
        "id": "hhWESRm5Lb-_",
        "outputId": "9758e323-4296-4911-da20-ebcdcdc8a44b"
      },
      "outputs": [
        {
          "name": "stdout",
          "output_type": "stream",
          "text": [
            "a:\n",
            " [[8 3]\n",
            " [4 2]]\n",
            "3.999999999999999\n"
          ]
        }
      ],
      "source": [
        "a = np.array([[8, 3],\n",
        "              [4, 2]])\n",
        "print('a:\\n', a)\n",
        "a_det = np.linalg.det(a)\n",
        "print(a_det)"
      ]
    },
    {
      "cell_type": "code",
      "execution_count": 44,
      "metadata": {
        "colab": {
          "base_uri": "https://localhost:8080/"
        },
        "id": "5fhsQPR0L8_o",
        "outputId": "4d933947-eaa6-4027-ddd4-f49c93c49b9e"
      },
      "outputs": [
        {
          "name": "stdout",
          "output_type": "stream",
          "text": [
            "4.0\n"
          ]
        }
      ],
      "source": [
        "print(np.round(a_det))"
      ]
    },
    {
      "cell_type": "code",
      "execution_count": 45,
      "metadata": {
        "colab": {
          "base_uri": "https://localhost:8080/"
        },
        "id": "s0ADdYcKMBkH",
        "outputId": "b07a7be3-e933-4338-b520-ab953cb0105b"
      },
      "outputs": [
        {
          "name": "stdout",
          "output_type": "stream",
          "text": [
            "[[1 2 3]\n",
            " [3 2 1]\n",
            " [0 0 1]]\n"
          ]
        }
      ],
      "source": [
        "b = np.array([[1, 2, 3],\n",
        "              [3, 2, 1],\n",
        "              [0, 0, 1]])\n",
        "print(b)"
      ]
    },
    {
      "cell_type": "code",
      "execution_count": 46,
      "metadata": {
        "colab": {
          "base_uri": "https://localhost:8080/"
        },
        "id": "f8ooD0dMMPXE",
        "outputId": "91054a38-3b3d-438a-e919-9ec63a15ff84"
      },
      "outputs": [
        {
          "name": "stdout",
          "output_type": "stream",
          "text": [
            "-4.000000000000001\n"
          ]
        }
      ],
      "source": [
        "print(np.linalg.det(b))"
      ]
    },
    {
      "cell_type": "code",
      "execution_count": 47,
      "metadata": {
        "colab": {
          "base_uri": "https://localhost:8080/"
        },
        "id": "osEQlCH4MUdf",
        "outputId": "aad397d3-55cc-4db0-ea03-f4a9b4642da2"
      },
      "outputs": [
        {
          "name": "stdout",
          "output_type": "stream",
          "text": [
            "23.999999999999993\n"
          ]
        }
      ],
      "source": [
        "print(np.linalg.det(np.array([[1, 2, 3],\n",
        "                              [0, 4, 5],\n",
        "                              [0, 0, 6]])))"
      ]
    },
    {
      "cell_type": "code",
      "execution_count": 48,
      "metadata": {
        "colab": {
          "base_uri": "https://localhost:8080/"
        },
        "id": "R8lCCxjrR8HT",
        "outputId": "73cae26d-8715-456f-c26b-7a5d56ab6213"
      },
      "outputs": [
        {
          "name": "stdout",
          "output_type": "stream",
          "text": [
            "[[-2.  3.]\n",
            " [ 3. -4.]]\n"
          ]
        }
      ],
      "source": [
        "print(np.linalg.inv(np.array([[4, 3], [3, 2]])))"
      ]
    },
    {
      "cell_type": "code",
      "execution_count": 49,
      "metadata": {
        "colab": {
          "base_uri": "https://localhost:8080/"
        },
        "id": "tZJQUnhCSR1a",
        "outputId": "4792f2d2-ea58-4e7f-be11-3eeea1f5ebb7"
      },
      "outputs": [
        {
          "name": "stdout",
          "output_type": "stream",
          "text": [
            "[[-24.  18.   5.]\n",
            " [ 20. -15.  -4.]\n",
            " [ -5.   4.   1.]]\n"
          ]
        }
      ],
      "source": [
        "print(np.linalg.inv(np.array([[1, 2, 3],\n",
        "                              [0, 1, 4],\n",
        "                              [5, 6, 0]])))"
      ]
    },
    {
      "cell_type": "code",
      "execution_count": 50,
      "metadata": {
        "colab": {
          "base_uri": "https://localhost:8080/"
        },
        "id": "s_q_Pc-PULr5",
        "outputId": "51dada56-edc6-4128-ddd5-c81395192a51"
      },
      "outputs": [
        {
          "name": "stdout",
          "output_type": "stream",
          "text": [
            "[[1 2]\n",
            " [3 4]]\n"
          ]
        }
      ],
      "source": [
        "a = np.array([[1, 2],\n",
        "              [3, 4]])\n",
        "print(a)"
      ]
    },
    {
      "cell_type": "code",
      "execution_count": 51,
      "metadata": {
        "colab": {
          "base_uri": "https://localhost:8080/"
        },
        "id": "8voVDP3eUSBQ",
        "outputId": "9749ab7e-d5bf-45fe-b878-336b7b0c0686"
      },
      "outputs": [
        {
          "name": "stdout",
          "output_type": "stream",
          "text": [
            "5.477225575051661\n"
          ]
        }
      ],
      "source": [
        "print(np.linalg.norm(a))"
      ]
    },
    {
      "cell_type": "code",
      "execution_count": 52,
      "metadata": {
        "colab": {
          "base_uri": "https://localhost:8080/"
        },
        "id": "5VOBljSeUp4h",
        "outputId": "8f36ccf5-1186-4c45-bd3a-ee21e7fc1c3c"
      },
      "outputs": [
        {
          "name": "stdout",
          "output_type": "stream",
          "text": [
            "5.477225575051661\n"
          ]
        }
      ],
      "source": [
        "print(np.sqrt(np.trace(np.dot(a.T, a))))"
      ]
    },
    {
      "cell_type": "markdown",
      "metadata": {
        "id": "4bnoYpkQVITs"
      },
      "source": [
        "# now we are using SymPy"
      ]
    },
    {
      "cell_type": "code",
      "execution_count": 54,
      "metadata": {
        "id": "PKvfyTMSVb2m"
      },
      "outputs": [],
      "source": [
        "import sympy as sp"
      ]
    },
    {
      "cell_type": "code",
      "execution_count": 57,
      "metadata": {
        "colab": {
          "base_uri": "https://localhost:8080/",
          "height": 58
        },
        "id": "DDXqfnM5VlC3",
        "outputId": "aa9165ec-0764-49d9-943d-cf28cc85a40a"
      },
      "outputs": [
        {
          "data": {
            "text/latex": [
              "$\\displaystyle \\left[\\begin{matrix}-6 & 3\\\\4 & 5\\end{matrix}\\right]$"
            ],
            "text/plain": [
              "Matrix([\n",
              "[-6, 3],\n",
              "[ 4, 5]])"
            ]
          },
          "execution_count": 57,
          "metadata": {},
          "output_type": "execute_result"
        }
      ],
      "source": [
        "a = sp.Matrix([[-6, 3],\n",
        "               [4, 5]])\n",
        "# print(a)\n",
        "a"
      ]
    },
    {
      "cell_type": "code",
      "execution_count": 59,
      "metadata": {
        "colab": {
          "base_uri": "https://localhost:8080/",
          "height": 38
        },
        "id": "mc8yZ0uIWoC3",
        "outputId": "22284ba4-f6b6-4407-923d-be90173bc077"
      },
      "outputs": [
        {
          "data": {
            "text/latex": [
              "$\\displaystyle \\left[\\begin{matrix}-6 & 3\\end{matrix}\\right]$"
            ],
            "text/plain": [
              "Matrix([[-6, 3]])"
            ]
          },
          "execution_count": 59,
          "metadata": {},
          "output_type": "execute_result"
        }
      ],
      "source": [
        "a.row(0)"
      ]
    },
    {
      "cell_type": "code",
      "execution_count": 60,
      "metadata": {
        "colab": {
          "base_uri": "https://localhost:8080/",
          "height": 58
        },
        "id": "0D4nyqRWW1KK",
        "outputId": "4492e4fe-b613-4578-ac4f-d16bfb709995"
      },
      "outputs": [
        {
          "data": {
            "text/latex": [
              "$\\displaystyle \\left[\\begin{matrix}-6\\\\4\\end{matrix}\\right]$"
            ],
            "text/plain": [
              "Matrix([\n",
              "[-6],\n",
              "[ 4]])"
            ]
          },
          "execution_count": 60,
          "metadata": {},
          "output_type": "execute_result"
        }
      ],
      "source": [
        "a.col(0)"
      ]
    },
    {
      "cell_type": "code",
      "execution_count": 62,
      "metadata": {
        "colab": {
          "base_uri": "https://localhost:8080/"
        },
        "id": "BTboXxfhW4q_",
        "outputId": "6f1aa0d5-648b-4a8b-db02-9948135edc2c"
      },
      "outputs": [
        {
          "data": {
            "text/plain": [
              "(2, 2)"
            ]
          },
          "execution_count": 62,
          "metadata": {},
          "output_type": "execute_result"
        }
      ],
      "source": [
        "a.shape"
      ]
    },
    {
      "cell_type": "code",
      "execution_count": 63,
      "metadata": {
        "colab": {
          "base_uri": "https://localhost:8080/",
          "height": 58
        },
        "id": "4KcUash3W_Zi",
        "outputId": "df626345-4bfd-4a17-f065-c293d4632535"
      },
      "outputs": [
        {
          "data": {
            "text/latex": [
              "$\\displaystyle \\left[\\begin{matrix}- \\frac{5}{42} & \\frac{1}{14}\\\\\\frac{2}{21} & \\frac{1}{7}\\end{matrix}\\right]$"
            ],
            "text/plain": [
              "Matrix([\n",
              "[-5/42, 1/14],\n",
              "[ 2/21,  1/7]])"
            ]
          },
          "execution_count": 63,
          "metadata": {},
          "output_type": "execute_result"
        }
      ],
      "source": [
        "a.inv()"
      ]
    },
    {
      "cell_type": "code",
      "execution_count": 65,
      "metadata": {
        "colab": {
          "base_uri": "https://localhost:8080/",
          "height": 37
        },
        "id": "IFvM9uDQXFI9",
        "outputId": "3529421a-2990-4678-ea97-c470e8c8d2f2"
      },
      "outputs": [
        {
          "data": {
            "text/latex": [
              "$\\displaystyle -42$"
            ],
            "text/plain": [
              "-42"
            ]
          },
          "execution_count": 65,
          "metadata": {},
          "output_type": "execute_result"
        }
      ],
      "source": [
        "a.det()"
      ]
    },
    {
      "cell_type": "code",
      "execution_count": 67,
      "metadata": {
        "colab": {
          "base_uri": "https://localhost:8080/",
          "height": 58
        },
        "id": "Q5pazKfZXe_C",
        "outputId": "c921255e-eb0e-4739-de51-ff17e641d8a6"
      },
      "outputs": [
        {
          "data": {
            "text/latex": [
              "$\\displaystyle \\left[\\begin{matrix}8 & 3\\\\4 & 2\\end{matrix}\\right]$"
            ],
            "text/plain": [
              "Matrix([\n",
              "[8, 3],\n",
              "[4, 2]])"
            ]
          },
          "execution_count": 67,
          "metadata": {},
          "output_type": "execute_result"
        }
      ],
      "source": [
        "a = sp.Matrix([[8, 3],\n",
        "               [4, 2]])\n",
        "a"
      ]
    },
    {
      "cell_type": "code",
      "execution_count": 68,
      "metadata": {
        "colab": {
          "base_uri": "https://localhost:8080/",
          "height": 37
        },
        "id": "JJ9W2ZXGXtcP",
        "outputId": "861d00c9-2e6e-40e4-e6de-4d967b4b6f89"
      },
      "outputs": [
        {
          "data": {
            "text/latex": [
              "$\\displaystyle 4$"
            ],
            "text/plain": [
              "4"
            ]
          },
          "execution_count": 68,
          "metadata": {},
          "output_type": "execute_result"
        }
      ],
      "source": [
        "a.det()"
      ]
    },
    {
      "cell_type": "code",
      "execution_count": 69,
      "metadata": {
        "colab": {
          "base_uri": "https://localhost:8080/",
          "height": 58
        },
        "id": "6G3yFY0pXxPu",
        "outputId": "29d784bf-fcdf-4a96-d9e5-e3d793742939"
      },
      "outputs": [
        {
          "data": {
            "text/latex": [
              "$\\displaystyle \\left[\\begin{matrix}\\frac{1}{2} & - \\frac{3}{4}\\\\-1 & 2\\end{matrix}\\right]$"
            ],
            "text/plain": [
              "Matrix([\n",
              "[1/2, -3/4],\n",
              "[ -1,    2]])"
            ]
          },
          "execution_count": 69,
          "metadata": {},
          "output_type": "execute_result"
        }
      ],
      "source": [
        "a.inv()"
      ]
    },
    {
      "cell_type": "code",
      "execution_count": 70,
      "metadata": {
        "colab": {
          "base_uri": "https://localhost:8080/",
          "height": 98
        },
        "id": "gqb7ZuFfX4Cz",
        "outputId": "2bbf21b7-e77b-4649-c9a5-ee3a55004b1d"
      },
      "outputs": [
        {
          "data": {
            "text/latex": [
              "$\\displaystyle \\left[\\begin{matrix}0 & 0 & 0 & 0 & 0\\\\0 & 0 & 0 & 0 & 0\\\\0 & 0 & 0 & 0 & 0\\\\0 & 0 & 0 & 0 & 0\\end{matrix}\\right]$"
            ],
            "text/plain": [
              "Matrix([\n",
              "[0, 0, 0, 0, 0],\n",
              "[0, 0, 0, 0, 0],\n",
              "[0, 0, 0, 0, 0],\n",
              "[0, 0, 0, 0, 0]])"
            ]
          },
          "execution_count": 70,
          "metadata": {},
          "output_type": "execute_result"
        }
      ],
      "source": [
        "sp.zeros(4, 5)"
      ]
    },
    {
      "cell_type": "code",
      "execution_count": 71,
      "metadata": {
        "colab": {
          "base_uri": "https://localhost:8080/",
          "height": 119
        },
        "id": "CH4tKBGzX8nc",
        "outputId": "21715929-6080-42da-f669-44599cd59fdd"
      },
      "outputs": [
        {
          "data": {
            "text/latex": [
              "$\\displaystyle \\left[\\begin{matrix}1 & 0 & 0 & 0 & 0\\\\0 & 1 & 0 & 0 & 0\\\\0 & 0 & 1 & 0 & 0\\\\0 & 0 & 0 & 1 & 0\\\\0 & 0 & 0 & 0 & 1\\end{matrix}\\right]$"
            ],
            "text/plain": [
              "Matrix([\n",
              "[1, 0, 0, 0, 0],\n",
              "[0, 1, 0, 0, 0],\n",
              "[0, 0, 1, 0, 0],\n",
              "[0, 0, 0, 1, 0],\n",
              "[0, 0, 0, 0, 1]])"
            ]
          },
          "execution_count": 71,
          "metadata": {},
          "output_type": "execute_result"
        }
      ],
      "source": [
        "sp.eye(5)"
      ]
    },
    {
      "cell_type": "code",
      "execution_count": 72,
      "metadata": {
        "colab": {
          "base_uri": "https://localhost:8080/",
          "height": 98
        },
        "id": "TCYXCoNeYCoQ",
        "outputId": "bfbcb83c-0ee7-4a8d-f1d7-0e605626123b"
      },
      "outputs": [
        {
          "data": {
            "text/latex": [
              "$\\displaystyle \\left[\\begin{matrix}1 & 0 & 0 & 0\\\\0 & 2 & 0 & 0\\\\0 & 0 & 4 & 0\\\\0 & 0 & 0 & 3\\end{matrix}\\right]$"
            ],
            "text/plain": [
              "Matrix([\n",
              "[1, 0, 0, 0],\n",
              "[0, 2, 0, 0],\n",
              "[0, 0, 4, 0],\n",
              "[0, 0, 0, 3]])"
            ]
          },
          "execution_count": 72,
          "metadata": {},
          "output_type": "execute_result"
        }
      ],
      "source": [
        "sp.diag(1, 2, 4, 3)"
      ]
    }
  ],
  "metadata": {
    "colab": {
      "authorship_tag": "ABX9TyP1qGAw7lXD636gUjyll/pg",
      "include_colab_link": true,
      "provenance": []
    },
    "kernelspec": {
      "display_name": "Python 3",
      "name": "python3"
    },
    "language_info": {
      "name": "python"
    }
  },
  "nbformat": 4,
  "nbformat_minor": 0
}
