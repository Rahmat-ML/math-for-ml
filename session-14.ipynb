{
  "cells": [
    {
      "cell_type": "markdown",
      "metadata": {
        "id": "view-in-github",
        "colab_type": "text"
      },
      "source": [
        "<a href=\"https://colab.research.google.com/github/Rahmat-ML/math-for-ml/blob/main/session-14.ipynb\" target=\"_parent\"><img src=\"https://colab.research.google.com/assets/colab-badge.svg\" alt=\"Open In Colab\"/></a>"
      ]
    },
    {
      "cell_type": "code",
      "execution_count": null,
      "metadata": {
        "id": "n8XLVxSdrhmI"
      },
      "outputs": [],
      "source": [
        "import sympy as sy"
      ]
    },
    {
      "cell_type": "code",
      "execution_count": null,
      "metadata": {
        "colab": {
          "base_uri": "https://localhost:8080/",
          "height": 39
        },
        "id": "lteh2BHhr8Ku",
        "outputId": "00840bf3-f221-4aad-e422-f70d928963d9"
      },
      "outputs": [
        {
          "data": {
            "text/latex": "$\\displaystyle x$",
            "text/plain": [
              "x"
            ]
          },
          "execution_count": 3,
          "metadata": {},
          "output_type": "execute_result"
        }
      ],
      "source": [
        "x, y = sy.symbols('x,y')\n",
        "x"
      ]
    },
    {
      "cell_type": "code",
      "execution_count": null,
      "metadata": {
        "colab": {
          "base_uri": "https://localhost:8080/",
          "height": 39
        },
        "id": "N4Jrd74KsFzt",
        "outputId": "a9a03404-b265-4e58-ac33-1595d4469191"
      },
      "outputs": [
        {
          "data": {
            "text/latex": "$\\displaystyle x^{2} + 3 x + y$",
            "text/plain": [
              "x**2 + 3*x + y"
            ]
          },
          "execution_count": 4,
          "metadata": {},
          "output_type": "execute_result"
        }
      ],
      "source": [
        "3 * x + y + x ** 2"
      ]
    },
    {
      "cell_type": "code",
      "execution_count": null,
      "metadata": {
        "colab": {
          "base_uri": "https://localhost:8080/",
          "height": 39
        },
        "id": "QfMPs7-gsOAk",
        "outputId": "39426553-be70-47d4-d2e7-9b91d92c4543"
      },
      "outputs": [
        {
          "data": {
            "text/latex": "$\\displaystyle x - y = -1$",
            "text/plain": [
              "Eq(x - y, -1)"
            ]
          },
          "execution_count": 8,
          "metadata": {},
          "output_type": "execute_result"
        }
      ],
      "source": [
        "# x - y = -1\n",
        "# 3x + y = 9\n",
        "\n",
        "eq1 = sy.Eq((x - y), -1)\n",
        "eq2 = sy.Eq((3 * x + y), 9)\n",
        "eq1"
      ]
    },
    {
      "cell_type": "code",
      "execution_count": null,
      "metadata": {
        "colab": {
          "base_uri": "https://localhost:8080/"
        },
        "id": "856awVw2srmz",
        "outputId": "5a42bb11-00c6-4e26-d0d6-825ba2052bbc"
      },
      "outputs": [
        {
          "data": {
            "text/plain": [
              "{x: 2, y: 3}"
            ]
          },
          "execution_count": 9,
          "metadata": {},
          "output_type": "execute_result"
        }
      ],
      "source": [
        "sy.solve((eq1, eq2), (x, y))"
      ]
    },
    {
      "cell_type": "code",
      "source": [
        "import numpy as np"
      ],
      "metadata": {
        "id": "6RaBhClauPq1"
      },
      "execution_count": 14,
      "outputs": []
    },
    {
      "cell_type": "code",
      "execution_count": 15,
      "metadata": {
        "id": "w0OQNxtmtBXR"
      },
      "outputs": [],
      "source": [
        "A = np.array([[1, -1],\n",
        "              [3, 1]])\n",
        "b = np.array([-1, 9])"
      ]
    },
    {
      "cell_type": "code",
      "source": [
        "np.linalg.inv(A).dot(b)"
      ],
      "metadata": {
        "colab": {
          "base_uri": "https://localhost:8080/"
        },
        "id": "3sosXPK9uTi1",
        "outputId": "c2103ce8-027a-4b19-cef8-6fe461a6e854"
      },
      "execution_count": 16,
      "outputs": [
        {
          "output_type": "execute_result",
          "data": {
            "text/plain": [
              "array([2., 3.])"
            ]
          },
          "metadata": {},
          "execution_count": 16
        }
      ]
    },
    {
      "cell_type": "code",
      "source": [
        "np.linalg.solve(A, b)"
      ],
      "metadata": {
        "colab": {
          "base_uri": "https://localhost:8080/"
        },
        "id": "AYMkmdIzua9d",
        "outputId": "861c1cb9-4385-46c7-ed1a-a3bd6195cb64"
      },
      "execution_count": 17,
      "outputs": [
        {
          "output_type": "execute_result",
          "data": {
            "text/plain": [
              "array([2., 3.])"
            ]
          },
          "metadata": {},
          "execution_count": 17
        }
      ]
    },
    {
      "cell_type": "code",
      "source": [
        "from scipy.linalg import solve"
      ],
      "metadata": {
        "id": "MEKdVIrxugDl"
      },
      "execution_count": 19,
      "outputs": []
    },
    {
      "cell_type": "code",
      "source": [
        "# from scipy\n",
        "solve(A, b)"
      ],
      "metadata": {
        "colab": {
          "base_uri": "https://localhost:8080/"
        },
        "id": "_WzeWKacuuBM",
        "outputId": "3fd17ff2-46e5-4363-81de-0407dd0dd4c1"
      },
      "execution_count": 20,
      "outputs": [
        {
          "output_type": "execute_result",
          "data": {
            "text/plain": [
              "array([2., 3.])"
            ]
          },
          "metadata": {},
          "execution_count": 20
        }
      ]
    },
    {
      "cell_type": "code",
      "source": [
        "import matplotlib.pyplot as plt"
      ],
      "metadata": {
        "id": "oBBwfqx-u1sc"
      },
      "execution_count": 21,
      "outputs": []
    },
    {
      "cell_type": "code",
      "source": [
        "x = np.linspace(-5, 5, 10)\n",
        "x"
      ],
      "metadata": {
        "colab": {
          "base_uri": "https://localhost:8080/"
        },
        "id": "8vIcX7epu_Ty",
        "outputId": "fac8e1f0-875a-4f56-f8f0-ec49debfd9ea"
      },
      "execution_count": 23,
      "outputs": [
        {
          "output_type": "execute_result",
          "data": {
            "text/plain": [
              "array([-5.        , -3.88888889, -2.77777778, -1.66666667, -0.55555556,\n",
              "        0.55555556,  1.66666667,  2.77777778,  3.88888889,  5.        ])"
            ]
          },
          "metadata": {},
          "execution_count": 23
        }
      ]
    },
    {
      "cell_type": "code",
      "source": [
        "y1 = x + 1\n",
        "y2 = 9 - 3 * x\n",
        "\n",
        "plt.plot(x, y1, label='y1')\n",
        "plt.plot(x, y2, label='y2')\n",
        "\n",
        "plt.axvline(2, color='gray', linestyle='--')\n",
        "plt.axhline(3, color='gray', linestyle='--')\n",
        "\n",
        "plt.grid()\n",
        "plt.legend()\n",
        "plt.show()"
      ],
      "metadata": {
        "colab": {
          "base_uri": "https://localhost:8080/",
          "height": 430
        },
        "id": "kCd-7x_yvJYT",
        "outputId": "bc7bf207-167d-4a22-e658-023ea85b8f5a"
      },
      "execution_count": 29,
      "outputs": [
        {
          "output_type": "display_data",
          "data": {
            "text/plain": [
              "<Figure size 640x480 with 1 Axes>"
            ],
            "image/png": "[encoded data removed]"
          },
          "metadata": {}
        }
      ]
    },
    {
      "cell_type": "code",
      "source": [
        "# x + 3*y - 2*z = 5\n",
        "# 3*x + 5*y + 6*z = 7\n",
        "# 2*x + 4*y + 3*z = 8\n",
        "\n",
        "x, y, z = sy.symbols('x,y,z')\n",
        "eq1 = sy.Eq((x     + 3 * y - 2 * z), 5)\n",
        "eq2 = sy.Eq((3 * x + 5 * y + 6 * z), 7)\n",
        "eq3 = sy.Eq((2 * x + 4 * y + 3 * z), 8)"
      ],
      "metadata": {
        "id": "0kQkjGHrxHqd"
      },
      "execution_count": 38,
      "outputs": []
    },
    {
      "cell_type": "code",
      "source": [
        "sy.solve((eq1, eq2, eq3), (x, y, z))"
      ],
      "metadata": {
        "colab": {
          "base_uri": "https://localhost:8080/"
        },
        "id": "hVFSxmIcxuKL",
        "outputId": "6494fc9f-2e25-4081-814c-6f1099b4285b"
      },
      "execution_count": 41,
      "outputs": [
        {
          "output_type": "execute_result",
          "data": {
            "text/plain": [
              "{x: -15, y: 8, z: 2}"
            ]
          },
          "metadata": {},
          "execution_count": 41
        }
      ]
    }
  ],
  "metadata": {
    "colab": {
      "provenance": [],
      "authorship_tag": "ABX9TyOVHsiLt7dp7aplltVf9wZs",
      "include_colab_link": true
    },
    "kernelspec": {
      "display_name": "Python 3",
      "name": "python3"
    },
    "language_info": {
      "name": "python"
    }
  },
  "nbformat": 4,
  "nbformat_minor": 0
}